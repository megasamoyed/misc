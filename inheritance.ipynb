{
 "cells": [
  {
   "cell_type": "markdown",
   "metadata": {},
   "source": [
    "## python 3 syntax for init"
   ]
  },
  {
   "cell_type": "code",
   "execution_count": 1,
   "metadata": {},
   "outputs": [
    {
     "output_type": "stream",
     "name": "stdout",
     "text": "The mobile is: Apple\nThe RAM is: 2\nThe storage is: 64\nThe model is: iPhone X\nThe model is: osx\n"
    }
   ],
   "source": [
    "# https://stackoverflow.com/questions/19776056/the-difference-between-super-method-versus-superself-class-self-method\n",
    "class Computer():\n",
    "    def __init__(self, computer, ram, storage):\n",
    "        self.computer = computer\n",
    "        self.ram = ram\n",
    "        self.storage = storage\n",
    "        self.os = \"osx\"\n",
    "\n",
    "# Class Mobile inherits Computer\n",
    "class Mobile(Computer):\n",
    "    def __init__(self, computer, ram, storage, model):\n",
    "        super().__init__(computer, ram, storage)\n",
    "        self.model = model\n",
    "        pass\n",
    "\n",
    "Apple = Mobile('Apple', 2, 64, 'iPhone X')\n",
    "print('The mobile is:', Apple.computer)\n",
    "print('The RAM is:', Apple.ram)\n",
    "print('The storage is:', Apple.storage)\n",
    "print('The model is:', Apple.model)\n",
    "print('The model is:', Apple.os)"
   ]
  },
  {
   "cell_type": "markdown",
   "metadata": {},
   "source": [
    "## python 2 style of init"
   ]
  },
  {
   "cell_type": "code",
   "execution_count": 4,
   "metadata": {},
   "outputs": [
    {
     "output_type": "stream",
     "name": "stdout",
     "text": "speed:  10\nis a mammal:  True\nfeed the cat?:  True\n"
    }
   ],
   "source": [
    "class Animal(object):\n",
    "    def __init__(self, speed , is_mammal):\n",
    "        self.speed = speed\n",
    "        self.is_mammal = is_mammal\n",
    "\n",
    "class Cat(Animal):\n",
    "    def __init__(self, is_hungry):\n",
    "        # Main Difference is here\n",
    "        super(Cat, self).__init__(10 , True)\n",
    "        self.is_hungry = is_hungry\n",
    "\n",
    "barry = Cat(True)\n",
    "print( \"speed: \", barry.speed)\n",
    "print( \"is a mammal: \", barry.is_mammal)\n",
    "print(\"feed the cat?: \", barry.is_hungry)"
   ]
  },
  {
   "cell_type": "markdown",
   "metadata": {},
   "source": [
    "## Inheritance from parent example"
   ]
  },
  {
   "cell_type": "code",
   "execution_count": 6,
   "metadata": {},
   "outputs": [
    {
     "output_type": "stream",
     "name": "stdout",
     "text": "Unknown\nUnknown\n'super' object has no attribute 'number_of_legs'\n'super' object has no attribute 'number_of_legs'\n"
    }
   ],
   "source": [
    "class Animal:\n",
    "    def number_of_legs(self):\n",
    "        print(\"Unknown\")\n",
    "\n",
    "class Dog(Animal):\n",
    "    def number_of_legs(self):\n",
    "        # Calls the function as seen by Dog, which inherited from Animal\n",
    "        super(Dog,self).number_of_legs()\n",
    "\n",
    "class Turtle(Animal):\n",
    "    def __init__(self):\n",
    "        super().__init__()\n",
    "\n",
    "class Horse(Animal):\n",
    "    def number_of_legs(self):\n",
    "        # Calls the function as seen by Animal which is not instantialized\n",
    "        super(Animal,self).number_of_legs()\n",
    "\n",
    "class Cat():\n",
    "    def number_of_legs(self):\n",
    "        # Calls the function as seen by Cat, which inherited from no one\n",
    "        super(Cat,self).number_of_legs()\n",
    "\n",
    "\n",
    "dog = Dog()\n",
    "dog.number_of_legs()\n",
    "\n",
    "turtle = Turtle()\n",
    "turtle.number_of_legs()\n",
    "\n",
    "horse = Horse()\n",
    "try:\n",
    "    horse.number_of_legs()\n",
    "except Exception as ex:\n",
    "    print(ex)\n",
    "\n",
    "cat = Cat()\n",
    "try:\n",
    "    cat.number_of_legs()\n",
    "except Exception as ex:\n",
    "    print(ex)"
   ]
  },
  {
   "cell_type": "markdown",
   "metadata": {},
   "source": [
    "## multiple inheritance"
   ]
  },
  {
   "cell_type": "code",
   "execution_count": 25,
   "metadata": {},
   "outputs": [
    {
     "output_type": "stream",
     "name": "stdout",
     "text": "Created a Hermaphrodite\nCreated a man\nCreated a woman\nCreated a human\n100\nhermaphrodite\n1\n30\n"
    }
   ],
   "source": [
    "# https://stackoverflow.com/questions/576169/understanding-python-super-with-init-methods\n",
    "# https://stackoverflow.com/questions/222877/what-does-super-do-in-python\n",
    "\n",
    "class Human(object):\n",
    "    def __init__(self):\n",
    "        print(\"Created a human\")\n",
    "        self.weight = 100\n",
    "\n",
    "\n",
    "class Man(Human):\n",
    "    def __init__(self):\n",
    "        print(\"Created a man\")\n",
    "        super(Man, self).__init__()\n",
    "        self.length_of_male_organ = 1\n",
    "        self.gender = \"male\"\n",
    "\n",
    "class Woman(Human):\n",
    "    def __init__(self):\n",
    "        print(\"Created a woman\")\n",
    "        super(Woman, self).__init__()\n",
    "        self.size_of_female_organ = 30\n",
    "        self.gender = \"female\"\n",
    "\n",
    "class Hermaphrodite(Man, Woman):\n",
    "    def __init__(self):\n",
    "        print(\"Created a Hermaphrodite\")\n",
    "        super(Hermaphrodite, self).__init__()\n",
    "        self.gender = \"hermaphrodite\"\n",
    "\n",
    "hermaprhodite = Hermaphrodite()\n",
    "\n",
    "print(hermaprhodite.weight )\n",
    "print(hermaprhodite.gender )\n",
    "print(hermaprhodite.length_of_male_organ)\n",
    "print(hermaprhodite.size_of_female_organ)\n",
    "# TLDR: Ensures that the next method in line in the method resolution order (MRO) is called."
   ]
  }
 ],
 "metadata": {
  "language_info": {
   "codemirror_mode": {
    "name": "ipython",
    "version": 3
   },
   "file_extension": ".py",
   "mimetype": "text/x-python",
   "name": "python",
   "nbconvert_exporter": "python",
   "pygments_lexer": "ipython3",
   "version": "3.7.4-final"
  },
  "orig_nbformat": 2,
  "kernelspec": {
   "name": "plain",
   "display_name": "plain"
  }
 },
 "nbformat": 4,
 "nbformat_minor": 2
}