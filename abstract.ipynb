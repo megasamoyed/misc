{
 "cells": [
  {
   "cell_type": "code",
   "execution_count": null,
   "metadata": {},
   "outputs": [],
   "source": [
    "# Abstract class\n",
    "Source: https://www.geeksforgeeks.org/abstract-classes-in-python/"
   ]
  },
  {
   "cell_type": "code",
   "execution_count": 1,
   "metadata": {},
   "outputs": [
    {
     "output_type": "stream",
     "name": "stdout",
     "text": "I have 3 sides\nI have 4 sides\nI have 5 sides\nI have 6 sides\n"
    }
   ],
   "source": [
    "  \n",
    "from abc import ABC, abstractmethod \n",
    "  \n",
    "class Polygon(ABC): \n",
    "  \n",
    "    # abstract method \n",
    "    def noofsides(self): \n",
    "        pass\n",
    "  \n",
    "class Triangle(Polygon): \n",
    "  \n",
    "    # overriding abstract method \n",
    "    def noofsides(self): \n",
    "        print(\"I have 3 sides\") \n",
    "  \n",
    "class Pentagon(Polygon): \n",
    "  \n",
    "    # overriding abstract method \n",
    "    def noofsides(self): \n",
    "        print(\"I have 5 sides\") \n",
    "  \n",
    "class Hexagon(Polygon): \n",
    "  \n",
    "    # overriding abstract method \n",
    "    def noofsides(self): \n",
    "        print(\"I have 6 sides\") \n",
    "  \n",
    "class Quadrilateral(Polygon): \n",
    "  \n",
    "    # overriding abstract method \n",
    "    def noofsides(self): \n",
    "        print(\"I have 4 sides\") \n",
    "# Driver code \n",
    "R = Triangle() \n",
    "R.noofsides() \n",
    "  \n",
    "K = Quadrilateral() \n",
    "K.noofsides() \n",
    "  \n",
    "R = Pentagon() \n",
    "R.noofsides() \n",
    "  \n",
    "K = Hexagon() \n",
    "K.noofsides()"
   ]
  },
  {
   "cell_type": "markdown",
   "metadata": {},
   "source": [
    "# Abstract method \n",
    "- Classes containing abstract method method cannot be instantiated. \n",
    "- A class that is derived from an abstract class cannot be instantiated unless all of its abstract methods are overridden.\n",
    "\n",
    "Source: https://programmer.help/blogs/5c8e697b0134e.html\n",
    "Source: https://www.python-course.eu/python3_abstract_classes.php"
   ]
  },
  {
   "cell_type": "code",
   "execution_count": 2,
   "metadata": {},
   "outputs": [],
   "source": [
    "from abc import ABC, abstractmethod\n",
    "\n",
    "class MyAbstractClass(ABC):\n",
    "    \n",
    "    @abstractmethod\n",
    "    def my_abstract_method_1(self):\n",
    "        x = \"Abstract Method Can Have Implementation Too\"\n",
    "        print(x)\n",
    "        pass\n",
    "    def my_concrete_method_1(self):\n",
    "        print(\"WTF\")\n",
    "        pass"
   ]
  },
  {
   "cell_type": "markdown",
   "metadata": {},
   "source": [
    "### Cannot instantiate an abstract class"
   ]
  },
  {
   "cell_type": "code",
   "execution_count": 3,
   "metadata": {},
   "outputs": [
    {
     "output_type": "stream",
     "name": "stdout",
     "text": "Can't instantiate abstract class MyAbstractClass with abstract methods my_abstract_method_1\n"
    }
   ],
   "source": [
    "## Cannot instantiate abstract class\n",
    "try:\n",
    "    my_abstract_class = MyAbstractClass()\n",
    "except Exception as ex:\n",
    "    print(ex)    \n",
    "    "
   ]
  },
  {
   "cell_type": "markdown",
   "metadata": {},
   "source": [
    "### Cannot instantiate a derived class without overidding abstract method"
   ]
  },
  {
   "cell_type": "code",
   "execution_count": 4,
   "metadata": {},
   "outputs": [
    {
     "output_type": "stream",
     "name": "stdout",
     "text": "Can't instantiate abstract class MyAbstractClassTwo with abstract methods my_abstract_method_1\n"
    }
   ],
   "source": [
    "class MyAbstractClassTwo(MyAbstractClass):\n",
    "    def my_concrete_method_1(self):\n",
    "        print(\"Uncovered parent class abstractmethod\")\n",
    "try:\n",
    "    my_abstract_class_two = MyAbstractClassTwo()\n",
    "except Exception as ex:\n",
    "    print(ex)\n"
   ]
  },
  {
   "cell_type": "markdown",
   "metadata": {},
   "source": [
    "### Can instantiate a derived class when overide abstract method, inherit concrete method"
   ]
  },
  {
   "cell_type": "code",
   "execution_count": 5,
   "metadata": {},
   "outputs": [
    {
     "output_type": "stream",
     "name": "stdout",
     "text": "C - Overlay parent class abstractmethod\nWTF\n"
    }
   ],
   "source": [
    "\n",
    "##  Instantiate abstract class with the abstractmethod, overides abstractmethod\n",
    "class MyAbstractClassThree(MyAbstractClass):\n",
    "    def __init__(self, name):\n",
    "        self.name = name\n",
    "    def my_abstract_method_1(self):\n",
    "        print(self.name + \" - Overlay parent class abstractmethod\")\n",
    "        \n",
    "my_abstract_class_three = MyAbstractClassThree(\"C\")\n",
    "my_abstract_class_three.my_abstract_method_1()\n",
    "my_abstract_class_three.my_concrete_method_1()"
   ]
  },
  {
   "cell_type": "code",
   "execution_count": 6,
   "metadata": {},
   "outputs": [
    {
     "output_type": "stream",
     "name": "stdout",
     "text": "OMG\nBBQ\n"
    }
   ],
   "source": [
    "##  Instantiate abstract class with the abstractmethod, overides abstractmethod\n",
    "class MyAbstractClassFour(MyAbstractClass):\n",
    "    def __init__(self, name):\n",
    "        self.name = name\n",
    "    def my_abstract_method_1(self):\n",
    "        print(self.name + \" - Overlay parent class abstractmethod\")\n",
    "    def my_concrete_method_1(self):\n",
    "        print(\"OMG\")\n",
    "        pass\n",
    "    def my_concrete_method_2(self):\n",
    "        print(\"BBQ\")\n",
    "        pass       \n",
    "my_abstract_class_four = MyAbstractClassFour(\"D\")\n",
    "my_abstract_class_four.my_concrete_method_1()\n",
    "my_abstract_class_four.my_concrete_method_2()\n"
   ]
  }
 ],
 "metadata": {
  "language_info": {
   "codemirror_mode": {
    "name": "ipython",
    "version": 3
   },
   "file_extension": ".py",
   "mimetype": "text/x-python",
   "name": "python",
   "nbconvert_exporter": "python",
   "pygments_lexer": "ipython3",
   "version": "3.7.4-final"
  },
  "orig_nbformat": 2,
  "kernelspec": {
   "name": "plain",
   "display_name": "plain"
  }
 },
 "nbformat": 4,
 "nbformat_minor": 2
}