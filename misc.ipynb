{
 "cells": [
  {
   "cell_type": "markdown",
   "metadata": {},
   "source": [
    "# \\__all\\__"
   ]
  },
  {
   "cell_type": "code",
   "execution_count": null,
   "metadata": {},
   "outputs": [],
   "source": [
    "# This is my_module.py:\n",
    "\n",
    "def external_func():\n",
    "    return 23\n",
    "\n",
    "def _internal_func():\n",
    "    return 42\n",
    "'''\n",
    "Now if you use a wildcard import to import all names from the module, \n",
    "Python will not import names with a leading underscore \n",
    "(unless the module defines an __all__ list that overrides this behavior):\n",
    ">>> from my_module import *\n",
    ">>> external_func()\n",
    "23\n",
    ">>> _internal_func()\n",
    "NameError: \"name '_internal_func' is not defined\"\n",
    "'''"
   ]
  }
 ],
 "metadata": {
  "language_info": {
   "codemirror_mode": {
    "name": "ipython",
    "version": 3
   },
   "file_extension": ".py",
   "mimetype": "text/x-python",
   "name": "python",
   "nbconvert_exporter": "python",
   "pygments_lexer": "ipython3",
   "version": 3
  },
  "orig_nbformat": 2
 },
 "nbformat": 4,
 "nbformat_minor": 2
}