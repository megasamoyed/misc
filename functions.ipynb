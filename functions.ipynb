{
 "cells": [
  {
   "cell_type": "markdown",
   "metadata": {},
   "source": []
  },
  {
   "cell_type": "markdown",
   "metadata": {},
   "source": []
  },
  {
   "cell_type": "markdown",
   "metadata": {},
   "source": [
    "# Static Method\n",
    "\n",
    "Source: https://www.programiz.com/python-programming/methods/built-in/staticmethod"
   ]
  },
  {
   "cell_type": "code",
   "execution_count": 3,
   "metadata": {},
   "outputs": [
    {
     "output_type": "stream",
     "name": "stdout",
     "text": "Equal\n"
    }
   ],
   "source": [
    "class Dates:\n",
    "    def __init__(self, date):\n",
    "        self.date = date\n",
    "        \n",
    "    def getDate(self):\n",
    "        return self.date\n",
    "\n",
    "    @staticmethod\n",
    "    def toDashDate(date):\n",
    "        return date.replace(\"/\", \"-\")\n",
    "\n",
    "date = Dates(\"15-12-2016\")\n",
    "dateFromDB = \"15/12/2016\"\n",
    "dateWithDash = Dates.toDashDate(dateFromDB)\n",
    "\n",
    "if(date.getDate() == dateWithDash):\n",
    "    print(\"Equal\")\n",
    "else:\n",
    "    print(\"Unequal\")"
   ]
  },
  {
   "cell_type": "markdown",
   "metadata": {},
   "source": [
    "# Function Annotation"
   ]
  },
  {
   "cell_type": "code",
   "execution_count": 1,
   "metadata": {},
   "outputs": [
    {
     "output_type": "stream",
     "name": "stdout",
     "text": "Python Type Checking\n--------------------\nUse Mypy\n--------\n"
    }
   ],
   "source": [
    "# Method 1\n",
    "class TestParams():\n",
    "    x: float\n",
    "    y: str\n",
    "        \n",
    "def params() -> TestParams:\n",
    "    return\n",
    "\n",
    "# Method 2b\n",
    "def func(a: \"WTF\" , b = \"OMFG\") -> \"BBQ\":\n",
    "    return \n",
    "\n",
    "# Example\n",
    "\n",
    "def headline(text: str, align: bool = True) -> str:\n",
    "    if align:\n",
    "        return f\"{text.title()}\\n{'-' * len(text)}\"\n",
    "    else:\n",
    "        return f\" {text.title()} \".right(50, \"o\")\n",
    "\n",
    "print(headline(\"python type checking\"))\n",
    "print(headline(\"use mypy\", align=\"center\"))"
   ]
  },
  {
   "cell_type": "markdown",
   "metadata": {},
   "source": [
    "# Partial Functions"
   ]
  },
  {
   "cell_type": "code",
   "execution_count": 2,
   "metadata": {},
   "outputs": [
    {
     "output_type": "stream",
     "name": "stdout",
     "text": "17.301038062283737\n17.301038062283737\n"
    }
   ],
   "source": [
    "\n",
    "\n",
    "from functools import partial\n",
    "\n",
    "def bmi(weight , height):\n",
    "    return weight / height ** 2\n",
    "print(bmi(50, 1.7))\n",
    "partial_bmi = partial(bmi, height = 1.7)\n",
    "print(partial_bmi(weight = 50))"
   ]
  },
  {
   "cell_type": "markdown",
   "metadata": {},
   "source": [
    "# Function Inputs: args and kwargs"
   ]
  },
  {
   "cell_type": "code",
   "execution_count": 78,
   "metadata": {},
   "outputs": [
    {
     "name": "stdout",
     "output_type": "stream",
     "text": [
      "6\n"
     ]
    },
    {
     "data": {
      "text/plain": [
       "'RealPythonIsGreat!'"
      ]
     },
     "execution_count": 78,
     "metadata": {},
     "output_type": "execute_result"
    }
   ],
   "source": [
    "# tuple\n",
    "def my_sum(*args):\n",
    "    result = 0\n",
    "    # Iterating over the Python args tuple\n",
    "    for x in args:\n",
    "        result += x\n",
    "    return result\n",
    "\n",
    "print(my_sum(1, 2, 3))\n",
    "\n",
    "def concatenate(**words):\n",
    "    result = \"\"\n",
    "    for arg in words.values():\n",
    "        result += arg\n",
    "    return result\n",
    "\n",
    "concatenate(a=\"Real\", b=\"Python\", c=\"Is\", d=\"Great\", e=\"!\")"
   ]
  },
  {
   "cell_type": "markdown",
   "metadata": {},
   "source": [
    "# Function that time functionas Inpput: Decorators\n",
    "\n",
    "In Decorators, functions are taken as the argument into another function and then called inside the wrapper function.\n",
    "\n",
    "Source: https://medium.com/@solankerahman/custom-decorators-in-python-d4ed0747e533"
   ]
  },
  {
   "cell_type": "markdown",
   "metadata": {},
   "source": [
    "### Basic Example"
   ]
  },
  {
   "cell_type": "code",
   "execution_count": 75,
   "metadata": {},
   "outputs": [
    {
     "name": "stdout",
     "output_type": "stream",
     "text": [
      "Something is happening before the function is called.\n",
      "Whee!\n",
      "Something is happening after the function is called.\n"
     ]
    }
   ],
   "source": [
    "def my_decorator(func):\n",
    "    def wrapper():\n",
    "        print(\"Something is happening before the function is called.\")\n",
    "        func()\n",
    "        print(\"Something is happening after the function is called.\")\n",
    "    return wrapper\n",
    "\n",
    "@my_decorator\n",
    "def say_whee():\n",
    "    print(\"Whee!\")\n",
    "say_whee()"
   ]
  },
  {
   "cell_type": "markdown",
   "metadata": {},
   "source": [
    "### Useful Example"
   ]
  },
  {
   "cell_type": "code",
   "execution_count": 70,
   "metadata": {},
   "outputs": [
    {
     "name": "stdout",
     "output_type": "stream",
     "text": [
      "DOE, JOHN\n"
     ]
    }
   ],
   "source": [
    "def capitalize_names(func):\n",
    "    def func_wrapper(*args, **kwargs):\n",
    "        return func(*args, **kwargs).upper()\n",
    "    return func_wrapper\n",
    "\n",
    "class Person:\n",
    "    def __init__(self):\n",
    "        self.firstname = \"John\"\n",
    "        self.lastname = \"Doe\"\n",
    "\n",
    "    @capitalize_names\n",
    "    def get_fullname(self):\n",
    "        return \"{}, {}\".format(self.lastname, self.firstname)\n",
    "\n",
    "my_person = Person()\n",
    "print(my_person.get_fullname())\n"
   ]
  },
  {
   "cell_type": "markdown",
   "metadata": {},
   "source": [
    "### Stacked Decorator"
   ]
  },
  {
   "cell_type": "code",
   "execution_count": 77,
   "metadata": {},
   "outputs": [
    {
     "data": {
      "text/plain": [
       "'@DOEJOHN'"
      ]
     },
     "execution_count": 77,
     "metadata": {},
     "output_type": "execute_result"
    }
   ],
   "source": [
    "def capitalize_names(func):\n",
    "    def func_wrapper(*args, **kwargs):\n",
    "        return func(*args, **kwargs).upper()\n",
    "    return func_wrapper\n",
    "\n",
    "def lump_names(func):\n",
    "    def func_wrapper(*args, **kwargs):\n",
    "        return '@' + func(*args, **kwargs).replace(', ', '')\n",
    "    return func_wrapper\n",
    "\n",
    "@lump_names\n",
    "@capitalize_names\n",
    "def get_fullname(firstname, lastname):\n",
    "    return \"{}, {}\".format(lastname, firstname)\n",
    "\n",
    "get_fullname(\"john\" , \"doe\")\n"
   ]
  },
  {
   "cell_type": "markdown",
   "metadata": {},
   "source": [
    "### Super Detailed Example"
   ]
  },
  {
   "cell_type": "code",
   "execution_count": 76,
   "metadata": {},
   "outputs": [
    {
     "name": "stdout",
     "output_type": "stream",
     "text": [
      "Hello, this is before function execution\n",
      "This is inside the function !!\n",
      "This is after function execution\n"
     ]
    }
   ],
   "source": [
    "# defining a decorator \n",
    "def hello_decorator(func): \n",
    "\n",
    "\t# inner1 is a Wrapper function in \n",
    "\t# which the argument is called \n",
    "\t\n",
    "\t# inner function can access the outer local \n",
    "\t# functions like in this case \"func\" \n",
    "\tdef inner1(): \n",
    "\t\tprint(\"Hello, this is before function execution\") \n",
    "\n",
    "\t\t# calling the actual function now \n",
    "\t\t# inside the wrapper function. \n",
    "\t\tfunc() \n",
    "\n",
    "\t\tprint(\"This is after function execution\") \n",
    "\t\t\n",
    "\treturn inner1 \n",
    "\n",
    "\n",
    "# defining a function, to be called inside wrapper \n",
    "def function_to_be_used(): \n",
    "\tprint(\"This is inside the function !!\") \n",
    "\n",
    "\n",
    "# passing 'function_to_be_used' inside the \n",
    "# decorator to control its behavior \n",
    "function_to_be_used = hello_decorator(function_to_be_used) \n",
    "\n",
    "\n",
    "# calling the function \n",
    "function_to_be_used() \n"
   ]
  },
  {
   "cell_type": "code",
   "execution_count": null,
   "metadata": {},
   "outputs": [],
   "source": []
  }
 ],
 "metadata": {
  "kernelspec": {
   "display_name": "Python 3",
   "language": "python",
   "name": "python3"
  },
  "language_info": {
   "codemirror_mode": {
    "name": "ipython",
    "version": 3
   },
   "file_extension": ".py",
   "mimetype": "text/x-python",
   "name": "python",
   "nbconvert_exporter": "python",
   "pygments_lexer": "ipython3",
   "version": "3.7.4-final"
  }
 },
 "nbformat": 4,
 "nbformat_minor": 2
}