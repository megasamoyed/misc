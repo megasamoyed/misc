{
 "cells": [
  {
   "cell_type": "markdown",
   "metadata": {},
   "source": [
    "# Content"
   ]
  },
  {
   "cell_type": "markdown",
   "metadata": {},
   "source": [
    "1. Super\n",
    "2. Abstract class\n",
    "3. Abstract Method\n",
    "4. Static Method\n",
    "5. Property\n",
    "6. Abstract Property\n",
    "    - No example\n",
    "7. Function Annotation\n",
    "    - No good example\n",
    "8. args and kwargs\n",
    "9. Decorator\n",
    "10. \\_\\_init__ all\n",
    "    - No example\n"
   ]
  },
  {
   "cell_type": "markdown",
   "metadata": {},
   "source": [
    "# 1. Super \n",
    "\n",
    "Source: https://www.educative.io/edpresso/what-is-super-in-python"
   ]
  },
  {
   "cell_type": "code",
   "execution_count": null,
   "metadata": {},
   "outputs": [],
   "source": [
    "class Computer():\n",
    "    def __init__(self, computer, ram, storage):\n",
    "        self.computer = computer\n",
    "        self.ram = ram\n",
    "        self.storage = storage\n",
    "        self.os = \"osx\"\n",
    "\n",
    "# Class Mobile inherits Computer\n",
    "class Mobile(Computer):\n",
    "    def __init__(self, computer, ram, storage, model):\n",
    "        super().__init__(computer, ram, storage)\n",
    "        self.model = model\n",
    "        pass\n",
    "\n",
    "Apple = Mobile('Apple', 2, 64, 'iPhone X')\n",
    "print('The mobile is:', Apple.computer)\n",
    "print('The RAM is:', Apple.ram)\n",
    "print('The storage is:', Apple.storage)\n",
    "print('The model is:', Apple.model)\n",
    "print('The model is:', Apple.os)"
   ]
  },
  {
   "cell_type": "markdown",
   "metadata": {},
   "source": [
    "# 2. Abstract class\n",
    "\n",
    "Source: https://www.geeksforgeeks.org/abstract-classes-in-python/"
   ]
  },
  {
   "cell_type": "code",
   "execution_count": 18,
   "metadata": {
    "scrolled": true
   },
   "outputs": [
    {
     "name": "stdout",
     "output_type": "stream",
     "text": [
      "I have 3 sides\n",
      "I have 4 sides\n",
      "I have 5 sides\n",
      "I have 6 sides\n"
     ]
    }
   ],
   "source": [
    "  \n",
    "from abc import ABC, abstractmethod \n",
    "  \n",
    "class Polygon(ABC): \n",
    "  \n",
    "    # abstract method \n",
    "    def noofsides(self): \n",
    "        pass\n",
    "  \n",
    "class Triangle(Polygon): \n",
    "  \n",
    "    # overriding abstract method \n",
    "    def noofsides(self): \n",
    "        print(\"I have 3 sides\") \n",
    "  \n",
    "class Pentagon(Polygon): \n",
    "  \n",
    "    # overriding abstract method \n",
    "    def noofsides(self): \n",
    "        print(\"I have 5 sides\") \n",
    "  \n",
    "class Hexagon(Polygon): \n",
    "  \n",
    "    # overriding abstract method \n",
    "    def noofsides(self): \n",
    "        print(\"I have 6 sides\") \n",
    "  \n",
    "class Quadrilateral(Polygon): \n",
    "  \n",
    "    # overriding abstract method \n",
    "    def noofsides(self): \n",
    "        print(\"I have 4 sides\") \n",
    "# Driver code \n",
    "R = Triangle() \n",
    "R.noofsides() \n",
    "  \n",
    "K = Quadrilateral() \n",
    "K.noofsides() \n",
    "  \n",
    "R = Pentagon() \n",
    "R.noofsides() \n",
    "  \n",
    "K = Hexagon() \n",
    "K.noofsides()"
   ]
  },
  {
   "cell_type": "markdown",
   "metadata": {},
   "source": [
    "# 3. Abstract method \n",
    "- Classes containing abstract method method cannot be instantiated. \n",
    "- A class that is derived from an abstract class cannot be instantiated unless all of its abstract methods are overridden.\n",
    "\n",
    "Source: https://programmer.help/blogs/5c8e697b0134e.html\n",
    "Source: https://www.python-course.eu/python3_abstract_classes.php"
   ]
  },
  {
   "cell_type": "code",
   "execution_count": 6,
   "metadata": {},
   "outputs": [],
   "source": [
    "from abc import ABC, abstractmethod\n",
    "\n",
    "class MyAbstractClass(ABC):\n",
    "    \n",
    "    @abstractmethod\n",
    "    def my_abstract_method_1(self):\n",
    "        x = \"Abstract Method Can Have Implementation Too\"\n",
    "        print(x)\n",
    "        pass\n",
    "    def my_concrete_method_1(self):\n",
    "        print(\"WTF\")\n",
    "        pass"
   ]
  },
  {
   "cell_type": "markdown",
   "metadata": {},
   "source": [
    "### Cannot instantiate an abstract class"
   ]
  },
  {
   "cell_type": "code",
   "execution_count": 2,
   "metadata": {},
   "outputs": [
    {
     "name": "stdout",
     "output_type": "stream",
     "text": [
      "Can't instantiate abstract class MyAbstractClass with abstract methods my_abstract_method_1\n"
     ]
    }
   ],
   "source": [
    "## Cannot instantiate abstract class\n",
    "try:\n",
    "    my_abstract_class = MyAbstractClass()\n",
    "except Exception as ex:\n",
    "    print(ex)    \n",
    "    "
   ]
  },
  {
   "cell_type": "markdown",
   "metadata": {},
   "source": [
    "### Cannot instantiate a derived class without overidding abstract method"
   ]
  },
  {
   "cell_type": "code",
   "execution_count": 5,
   "metadata": {},
   "outputs": [
    {
     "name": "stdout",
     "output_type": "stream",
     "text": [
      "Can't instantiate abstract class MyAbstractClassTwo with abstract methods my_abstract_method_1\n"
     ]
    }
   ],
   "source": [
    "class MyAbstractClassTwo(MyAbstractClass):\n",
    "    def my_concrete_method_1(self):\n",
    "        print(\"Uncovered parent class abstractmethod\")\n",
    "try:\n",
    "    my_abstract_class_two = MyAbstractClassTwo()\n",
    "except Exception as ex:\n",
    "    print(ex)\n"
   ]
  },
  {
   "cell_type": "markdown",
   "metadata": {},
   "source": [
    "### Can instantiate a derived class when overide abstract method, inherit concrete method"
   ]
  },
  {
   "cell_type": "code",
   "execution_count": 15,
   "metadata": {},
   "outputs": [
    {
     "name": "stdout",
     "output_type": "stream",
     "text": [
      "C - Overlay parent class abstractmethod\n",
      "WTF\n"
     ]
    }
   ],
   "source": [
    "\n",
    "##  Instantiate abstract class with the abstractmethod, overides abstractmethod\n",
    "class MyAbstractClassThree(MyAbstractClass):\n",
    "    def __init__(self, name):\n",
    "        self.name = name\n",
    "    def my_abstract_method_1(self):\n",
    "        print(self.name + \" - Overlay parent class abstractmethod\")\n",
    "        \n",
    "my_abstract_class_three = MyAbstractClassThree(\"C\")\n",
    "my_abstract_class_three.my_abstract_method_1()\n",
    "my_abstract_class_three.my_concrete_method_1()"
   ]
  },
  {
   "cell_type": "markdown",
   "metadata": {},
   "source": [
    "### Can instantiate a derived class when overide abstract method, override concrete method"
   ]
  },
  {
   "cell_type": "code",
   "execution_count": 17,
   "metadata": {},
   "outputs": [
    {
     "name": "stdout",
     "output_type": "stream",
     "text": [
      "OMG\n",
      "BBQ\n"
     ]
    }
   ],
   "source": [
    "##  Instantiate abstract class with the abstractmethod, overides abstractmethod\n",
    "class MyAbstractClassFour(MyAbstractClass):\n",
    "    def __init__(self, name):\n",
    "        self.name = name\n",
    "    def my_abstract_method_1(self):\n",
    "        print(self.name + \" - Overlay parent class abstractmethod\")\n",
    "    def my_concrete_method_1(self):\n",
    "        print(\"OMG\")\n",
    "        pass\n",
    "    def my_concrete_method_2(self):\n",
    "        print(\"BBQ\")\n",
    "        pass       \n",
    "my_abstract_class_four = MyAbstractClassFour(\"D\")\n",
    "my_abstract_class_four.my_concrete_method_1()\n",
    "my_abstract_class_four.my_concrete_method_2()\n"
   ]
  },
  {
   "cell_type": "code",
   "execution_count": null,
   "metadata": {},
   "outputs": [],
   "source": [
    "class Celsius:\n",
    "    def __init__(self, temperature = 0):\n",
    "        self._temperature = temperature\n",
    "\n",
    "    def to_fahrenheit(self):\n",
    "        return (self.temperature * 1.8) + 32\n",
    "\n",
    "    @property\n",
    "    def temperature(self):\n",
    "        print(\"Getting value\")\n",
    "        return self._temperature\n",
    "\n",
    "    @temperature.setter\n",
    "    def temperature(self, value):\n",
    "        if value < -273:\n",
    "            raise ValueError(\"Temperature below -273 is not possible\")\n",
    "        print(\"Setting value\")\n",
    "        self._temperature = value"
   ]
  },
  {
   "cell_type": "markdown",
   "metadata": {},
   "source": [
    "# 4. Static Method\n",
    "\n",
    "Source: https://www.programiz.com/python-programming/methods/built-in/staticmethod"
   ]
  },
  {
   "cell_type": "code",
   "execution_count": 30,
   "metadata": {},
   "outputs": [
    {
     "name": "stdout",
     "output_type": "stream",
     "text": [
      "Equal\n"
     ]
    }
   ],
   "source": [
    "class Dates:\n",
    "    def __init__(self, date):\n",
    "        self.date = date\n",
    "        \n",
    "    def getDate(self):\n",
    "        return self.date\n",
    "\n",
    "    @staticmethod\n",
    "    def toDashDate(date):\n",
    "        return date.replace(\"/\", \"-\")\n",
    "\n",
    "date = Dates(\"15-12-2016\")\n",
    "dateFromDB = \"15/12/2016\"\n",
    "dateWithDash = Dates.toDashDate(dateFromDB)\n",
    "\n",
    "if(date.getDate() == dateWithDash):\n",
    "    print(\"Equal\")\n",
    "else:\n",
    "    print(\"Unequal\")"
   ]
  },
  {
   "cell_type": "markdown",
   "metadata": {},
   "source": [
    "# 5. Property\n",
    "Source: https://www.programiz.com/python-programming/property"
   ]
  },
  {
   "cell_type": "code",
   "execution_count": 56,
   "metadata": {},
   "outputs": [],
   "source": [
    "class Celsius(object):\n",
    "    def __init__(self, temperature = 0):\n",
    "        self._temperature = temperature\n",
    "\n",
    "    def to_fahrenheit(self):\n",
    "        return (self.temperature * 1.8) + 32\n",
    "\n",
    "    @property\n",
    "    def temperature(self):\n",
    "        print(\"Getting value\")\n",
    "        return self._temperature\n",
    "\n",
    "    @temperature.setter\n",
    "    def temperature(self, value):\n",
    "        if value < -273:\n",
    "            raise ValueError(\"Temperature below -273 is not possible\")\n",
    "        print(\"Setting value\")\n",
    "        self._temperature = value"
   ]
  },
  {
   "cell_type": "code",
   "execution_count": 67,
   "metadata": {},
   "outputs": [
    {
     "name": "stdout",
     "output_type": "stream",
     "text": [
      "Getting value\n",
      "10\n",
      "Setting value\n",
      "Getting value\n",
      "5\n"
     ]
    }
   ],
   "source": [
    "celsius = Celsius(10)\n",
    "print(celsius.temperature)\n",
    "celsius.temperature = 5\n",
    "print(celsius.temperature)"
   ]
  },
  {
   "cell_type": "markdown",
   "metadata": {},
   "source": [
    "# 7. Function Annotation"
   ]
  },
  {
   "cell_type": "code",
   "execution_count": 68,
   "metadata": {},
   "outputs": [
    {
     "name": "stdout",
     "output_type": "stream",
     "text": [
      "Python Type Checking\n",
      "--------------------\n",
      "Use Mypy\n",
      "--------\n"
     ]
    }
   ],
   "source": [
    "# Method 1\n",
    "class TestParams():\n",
    "    x: float\n",
    "    y: str\n",
    "        \n",
    "def params() -> TestParams:\n",
    "    return\n",
    "\n",
    "# Method 2\n",
    "def func(a: \"WTF\" , b = \"OMFG\") -> \"BBQ\":\n",
    "    return \n",
    "\n",
    "# Example\n",
    "\n",
    "def headline(text: str, align: bool = True) -> str:\n",
    "    if align:\n",
    "        return f\"{text.title()}\\n{'-' * len(text)}\"\n",
    "    else:\n",
    "        return f\" {text.title()} \".right(50, \"o\")\n",
    "\n",
    "print(headline(\"python type checking\"))\n",
    "print(headline(\"use mypy\", align=\"center\"))"
   ]
  },
  {
   "cell_type": "markdown",
   "metadata": {},
   "source": [
    "# 8. args and kwargs"
   ]
  },
  {
   "cell_type": "code",
   "execution_count": 78,
   "metadata": {},
   "outputs": [
    {
     "name": "stdout",
     "output_type": "stream",
     "text": [
      "6\n"
     ]
    },
    {
     "data": {
      "text/plain": [
       "'RealPythonIsGreat!'"
      ]
     },
     "execution_count": 78,
     "metadata": {},
     "output_type": "execute_result"
    }
   ],
   "source": [
    "# tuple\n",
    "def my_sum(*args):\n",
    "    result = 0\n",
    "    # Iterating over the Python args tuple\n",
    "    for x in args:\n",
    "        result += x\n",
    "    return result\n",
    "\n",
    "print(my_sum(1, 2, 3))\n",
    "\n",
    "def concatenate(**words):\n",
    "    result = \"\"\n",
    "    for arg in words.values():\n",
    "        result += arg\n",
    "    return result\n",
    "\n",
    "concatenate(a=\"Real\", b=\"Python\", c=\"Is\", d=\"Great\", e=\"!\")"
   ]
  },
  {
   "cell_type": "code",
   "execution_count": null,
   "metadata": {},
   "outputs": [],
   "source": []
  },
  {
   "cell_type": "markdown",
   "metadata": {},
   "source": [
    "# 9. Decorators\n",
    "\n",
    "In Decorators, functions are taken as the argument into another function and then called inside the wrapper function.\n",
    "\n",
    "Source: https://medium.com/@solankerahman/custom-decorators-in-python-d4ed0747e533"
   ]
  },
  {
   "cell_type": "markdown",
   "metadata": {},
   "source": [
    "### Basic Example"
   ]
  },
  {
   "cell_type": "code",
   "execution_count": 75,
   "metadata": {},
   "outputs": [
    {
     "name": "stdout",
     "output_type": "stream",
     "text": [
      "Something is happening before the function is called.\n",
      "Whee!\n",
      "Something is happening after the function is called.\n"
     ]
    }
   ],
   "source": [
    "def my_decorator(func):\n",
    "    def wrapper():\n",
    "        print(\"Something is happening before the function is called.\")\n",
    "        func()\n",
    "        print(\"Something is happening after the function is called.\")\n",
    "    return wrapper\n",
    "\n",
    "@my_decorator\n",
    "def say_whee():\n",
    "    print(\"Whee!\")\n",
    "say_whee()"
   ]
  },
  {
   "cell_type": "markdown",
   "metadata": {},
   "source": [
    "### Useful Example"
   ]
  },
  {
   "cell_type": "code",
   "execution_count": 70,
   "metadata": {},
   "outputs": [
    {
     "name": "stdout",
     "output_type": "stream",
     "text": [
      "DOE, JOHN\n"
     ]
    }
   ],
   "source": [
    "def capitalize_names(func):\n",
    "    def func_wrapper(*args, **kwargs):\n",
    "        return func(*args, **kwargs).upper()\n",
    "    return func_wrapper\n",
    "\n",
    "class Person:\n",
    "    def __init__(self):\n",
    "        self.firstname = \"John\"\n",
    "        self.lastname = \"Doe\"\n",
    "\n",
    "    @capitalize_names\n",
    "    def get_fullname(self):\n",
    "        return \"{}, {}\".format(self.lastname, self.firstname)\n",
    "\n",
    "my_person = Person()\n",
    "print(my_person.get_fullname())\n"
   ]
  },
  {
   "cell_type": "markdown",
   "metadata": {},
   "source": [
    "### Stacked Decorator"
   ]
  },
  {
   "cell_type": "code",
   "execution_count": 77,
   "metadata": {},
   "outputs": [
    {
     "data": {
      "text/plain": [
       "'@DOEJOHN'"
      ]
     },
     "execution_count": 77,
     "metadata": {},
     "output_type": "execute_result"
    }
   ],
   "source": [
    "def capitalize_names(func):\n",
    "    def func_wrapper(*args, **kwargs):\n",
    "        return func(*args, **kwargs).upper()\n",
    "    return func_wrapper\n",
    "\n",
    "def lump_names(func):\n",
    "    def func_wrapper(*args, **kwargs):\n",
    "        return '@' + func(*args, **kwargs).replace(', ', '')\n",
    "    return func_wrapper\n",
    "\n",
    "@lump_names\n",
    "@capitalize_names\n",
    "def get_fullname(firstname, lastname):\n",
    "    return \"{}, {}\".format(lastname, firstname)\n",
    "\n",
    "get_fullname(\"john\" , \"doe\")\n"
   ]
  },
  {
   "cell_type": "markdown",
   "metadata": {},
   "source": [
    "### Super Detailed Example"
   ]
  },
  {
   "cell_type": "code",
   "execution_count": 76,
   "metadata": {},
   "outputs": [
    {
     "name": "stdout",
     "output_type": "stream",
     "text": [
      "Hello, this is before function execution\n",
      "This is inside the function !!\n",
      "This is after function execution\n"
     ]
    }
   ],
   "source": [
    "# defining a decorator \n",
    "def hello_decorator(func): \n",
    "\n",
    "\t# inner1 is a Wrapper function in \n",
    "\t# which the argument is called \n",
    "\t\n",
    "\t# inner function can access the outer local \n",
    "\t# functions like in this case \"func\" \n",
    "\tdef inner1(): \n",
    "\t\tprint(\"Hello, this is before function execution\") \n",
    "\n",
    "\t\t# calling the actual function now \n",
    "\t\t# inside the wrapper function. \n",
    "\t\tfunc() \n",
    "\n",
    "\t\tprint(\"This is after function execution\") \n",
    "\t\t\n",
    "\treturn inner1 \n",
    "\n",
    "\n",
    "# defining a function, to be called inside wrapper \n",
    "def function_to_be_used(): \n",
    "\tprint(\"This is inside the function !!\") \n",
    "\n",
    "\n",
    "# passing 'function_to_be_used' inside the \n",
    "# decorator to control its behavior \n",
    "function_to_be_used = hello_decorator(function_to_be_used) \n",
    "\n",
    "\n",
    "# calling the function \n",
    "function_to_be_used() \n"
   ]
  },
  {
   "cell_type": "markdown",
   "metadata": {},
   "source": [
    "# 10. All"
   ]
  },
  {
   "cell_type": "code",
   "execution_count": null,
   "metadata": {},
   "outputs": [],
   "source": [
    "# This is my_module.py:\n",
    "\n",
    "def external_func():\n",
    "    return 23\n",
    "\n",
    "def _internal_func():\n",
    "    return 42\n",
    "'''\n",
    "Now if you use a wildcard import to import all names from the module, \n",
    "Python will not import names with a leading underscore \n",
    "(unless the module defines an __all__ list that overrides this behavior):\n",
    ">>> from my_module import *\n",
    ">>> external_func()\n",
    "23\n",
    ">>> _internal_func()\n",
    "NameError: \"name '_internal_func' is not defined\"\n",
    "'''"
   ]
  },
  {
   "cell_type": "code",
   "execution_count": null,
   "metadata": {},
   "outputs": [],
   "source": []
  },
  {
   "cell_type": "code",
   "execution_count": null,
   "metadata": {},
   "outputs": [],
   "source": []
  }
 ],
 "metadata": {
  "kernelspec": {
   "display_name": "Python 3",
   "language": "python",
   "name": "python3"
  },
  "language_info": {
   "codemirror_mode": {
    "name": "ipython",
    "version": 3
   },
   "file_extension": ".py",
   "mimetype": "text/x-python",
   "name": "python",
   "nbconvert_exporter": "python",
   "pygments_lexer": "ipython3",
   "version": "3.7.4"
  }
 },
 "nbformat": 4,
 "nbformat_minor": 2
}
