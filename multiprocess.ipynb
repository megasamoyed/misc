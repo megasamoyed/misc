{
 "cells": [
  {
   "cell_type": "markdown",
   "metadata": {},
   "source": []
  },
  {
   "cell_type": "code",
   "execution_count": 1,
   "metadata": {},
   "outputs": [
    {
     "output_type": "stream",
     "name": "stdout",
     "text": "No. of CPUS: 4\n"
    }
   ],
   "source": [
    "'''\n",
    "- Aim \n",
    "    - Compare single thread and multi threaded implementation\n",
    "- Methodology\n",
    "    - Run the complex task of inverting a matrix, of dimensions 1000, 3500, and 4000 respectively using different cores\n",
    "- Conclusion\n",
    "    - Simple task maybe overhead to starting multiprocessing is high, so serial runs faster (dim = 1000)\n",
    "    - Complex task multiprocess run faster dim = 3000 runs faster but dim = 4000 slower\n",
    "'''\n",
    "import numpy as np\n",
    "import pandas as pd\n",
    "from multiprocessing import Pool, TimeoutError , cpu_count , Lock\n",
    "from numpy.linalg import inv\n",
    "print(\"No. of CPUS: %s\" % (cpu_count() ))"
   ]
  },
  {
   "cell_type": "code",
   "execution_count": 17,
   "metadata": {},
   "outputs": [],
   "source": [
    "class Thread_Callback():\n",
    "    def __init__(self):\n",
    "        self.val = []\n",
    "\n",
    "    def update_result(self, val):\n",
    "        self.val.append(val)\n",
    "\n",
    "def invert_matrix(process_name , dim):\n",
    "    # print(process_name)\n",
    "    st = pd.Timestamp.now()\n",
    "    _ = inv(np.random.rand(dim , dim))\n",
    "    return {\"Name\": process_name, \"Time\": pd.Timestamp.now() - st}\n",
    "\n",
    "# Example of inverting a matrix with multiple threads\n",
    "def multiprocess_example(cores , dim = 3000):\n",
    "    thread_callback = Thread_Callback()\n",
    "    pool = Pool(processes=cores)  \n",
    "    for process_name in [\"a\",\"b\",\"c\",\"d\"]:\n",
    "        res = pool.apply_async(invert_matrix, args=(process_name,dim)  , callback=thread_callback.update_result)\n",
    "    pool.close()\n",
    "    pool.join()\n",
    "    return thread_callback.val\n",
    "\n",
    "# Example of doing the same thing with a single thread\n",
    "def single_example(dim = 3000):\n",
    "    results = []\n",
    "    for process_name in [\"a\",\"b\",\"c\",\"d\"]:\n",
    "        results.append(invert_matrix(process_name,dim))\n",
    "    return results\n",
    "\n",
    "# Just a utility function to run multi threaded and single threaded in a single function call so as to compare their results\n",
    "def compare(cores , dim = 3000):\n",
    "    print(\"*\" * 33)\n",
    "    print(\"*** Core: %s , Dimesions: %s ***\" % (cores ,  dim))\n",
    "    print(\"*\" * 33)\n",
    "    start_time = pd.Timestamp.now()\n",
    "    res = multiprocess_example(cores, dim)\n",
    "    end_time = pd.Timestamp.now()\n",
    "    print(\"Total Time Taken for multiple thread: %s \" % (end_time - start_time))\n",
    "    display(res)\n",
    "\n",
    "    start_time = pd.Timestamp.now()\n",
    "    res = single_example(dim)\n",
    "    end_time = pd.Timestamp.now()\n",
    "    print(\"Total Time Taken for single thread: %s \" % (end_time - start_time))\n",
    "    display(res)\n",
    "    \n"
   ]
  },
  {
   "cell_type": "code",
   "execution_count": 18,
   "metadata": {},
   "outputs": [
    {
     "output_type": "stream",
     "name": "stdout",
     "text": "*********************************\n*** Core: 2 , Dimesions: 1000 ***\n*********************************\nTotal Time Taken for multiple thread: 0 days 00:00:00.664396 \n"
    },
    {
     "output_type": "display_data",
     "data": {
      "text/plain": "[{'Name': 'b', 'Time': Timedelta('0 days 00:00:00.307278')},\n {'Name': 'a', 'Time': Timedelta('0 days 00:00:00.313785')},\n {'Name': 'c', 'Time': Timedelta('0 days 00:00:00.223735')},\n {'Name': 'd', 'Time': Timedelta('0 days 00:00:00.229575')}]"
     },
     "metadata": {}
    },
    {
     "output_type": "stream",
     "name": "stdout",
     "text": "Total Time Taken for single thread: 0 days 00:00:00.548085 \n"
    },
    {
     "output_type": "display_data",
     "data": {
      "text/plain": "[{'Name': 'a', 'Time': Timedelta('0 days 00:00:00.167274')},\n {'Name': 'b', 'Time': Timedelta('0 days 00:00:00.122027')},\n {'Name': 'c', 'Time': Timedelta('0 days 00:00:00.132203')},\n {'Name': 'd', 'Time': Timedelta('0 days 00:00:00.123226')}]"
     },
     "metadata": {}
    },
    {
     "output_type": "stream",
     "name": "stdout",
     "text": "*********************************\n*** Core: 3 , Dimesions: 1000 ***\n*********************************\nTotal Time Taken for multiple thread: 0 days 00:00:00.603801 \n"
    },
    {
     "output_type": "display_data",
     "data": {
      "text/plain": "[{'Name': 'a', 'Time': Timedelta('0 days 00:00:00.332277')},\n {'Name': 'b', 'Time': Timedelta('0 days 00:00:00.347415')},\n {'Name': 'c', 'Time': Timedelta('0 days 00:00:00.369062')},\n {'Name': 'd', 'Time': Timedelta('0 days 00:00:00.166501')}]"
     },
     "metadata": {}
    },
    {
     "output_type": "stream",
     "name": "stdout",
     "text": "Total Time Taken for single thread: 0 days 00:00:00.536474 \n"
    },
    {
     "output_type": "display_data",
     "data": {
      "text/plain": "[{'Name': 'a', 'Time': Timedelta('0 days 00:00:00.175405')},\n {'Name': 'b', 'Time': Timedelta('0 days 00:00:00.121608')},\n {'Name': 'c', 'Time': Timedelta('0 days 00:00:00.120716')},\n {'Name': 'd', 'Time': Timedelta('0 days 00:00:00.115848')}]"
     },
     "metadata": {}
    },
    {
     "output_type": "stream",
     "name": "stdout",
     "text": "*********************************\n*** Core: 4 , Dimesions: 1000 ***\n*********************************\nTotal Time Taken for multiple thread: 0 days 00:00:00.610197 \n"
    },
    {
     "output_type": "display_data",
     "data": {
      "text/plain": "[{'Name': 'b', 'Time': Timedelta('0 days 00:00:00.446051')},\n {'Name': 'a', 'Time': Timedelta('0 days 00:00:00.456310')},\n {'Name': 'c', 'Time': Timedelta('0 days 00:00:00.456931')},\n {'Name': 'd', 'Time': Timedelta('0 days 00:00:00.467957')}]"
     },
     "metadata": {}
    },
    {
     "output_type": "stream",
     "name": "stdout",
     "text": "Total Time Taken for single thread: 0 days 00:00:00.531702 \n"
    },
    {
     "output_type": "display_data",
     "data": {
      "text/plain": "[{'Name': 'a', 'Time': Timedelta('0 days 00:00:00.185212')},\n {'Name': 'b', 'Time': Timedelta('0 days 00:00:00.115592')},\n {'Name': 'c', 'Time': Timedelta('0 days 00:00:00.115589')},\n {'Name': 'd', 'Time': Timedelta('0 days 00:00:00.112363')}]"
     },
     "metadata": {}
    }
   ],
   "source": [
    "compare(cores = 2 , dim = 1000)\n",
    "compare(cores = 3 , dim = 1000)\n",
    "compare(cores = 4 , dim = 1000)"
   ]
  },
  {
   "cell_type": "code",
   "execution_count": 19,
   "metadata": {},
   "outputs": [
    {
     "output_type": "stream",
     "name": "stdout",
     "text": "*********************************\n*** Core: 2 , Dimesions: 3500 ***\n*********************************\nTotal Time Taken for multiple thread: 0 days 00:00:17.994013 \n"
    },
    {
     "output_type": "display_data",
     "data": {
      "text/plain": "[{'Name': 'a', 'Time': Timedelta('0 days 00:00:08.289410')},\n {'Name': 'b', 'Time': Timedelta('0 days 00:00:08.306371')},\n {'Name': 'd', 'Time': Timedelta('0 days 00:00:09.463554')},\n {'Name': 'c', 'Time': Timedelta('0 days 00:00:09.557034')}]"
     },
     "metadata": {}
    },
    {
     "output_type": "stream",
     "name": "stdout",
     "text": "Total Time Taken for single thread: 0 days 00:00:16.422043 \n"
    },
    {
     "output_type": "display_data",
     "data": {
      "text/plain": "[{'Name': 'a', 'Time': Timedelta('0 days 00:00:04.517916')},\n {'Name': 'b', 'Time': Timedelta('0 days 00:00:03.785166')},\n {'Name': 'c', 'Time': Timedelta('0 days 00:00:03.890303')},\n {'Name': 'd', 'Time': Timedelta('0 days 00:00:04.199975')}]"
     },
     "metadata": {}
    },
    {
     "output_type": "stream",
     "name": "stdout",
     "text": "*********************************\n*** Core: 3 , Dimesions: 3500 ***\n*********************************\nTotal Time Taken for multiple thread: 0 days 00:00:18.026705 \n"
    },
    {
     "output_type": "display_data",
     "data": {
      "text/plain": "[{'Name': 'c', 'Time': Timedelta('0 days 00:00:13.916318')},\n {'Name': 'b', 'Time': Timedelta('0 days 00:00:13.964443')},\n {'Name': 'a', 'Time': Timedelta('0 days 00:00:14.052943')},\n {'Name': 'd', 'Time': Timedelta('0 days 00:00:03.934066')}]"
     },
     "metadata": {}
    },
    {
     "output_type": "stream",
     "name": "stdout",
     "text": "Total Time Taken for single thread: 0 days 00:00:20.750737 \n"
    },
    {
     "output_type": "display_data",
     "data": {
      "text/plain": "[{'Name': 'a', 'Time': Timedelta('0 days 00:00:04.196842')},\n {'Name': 'b', 'Time': Timedelta('0 days 00:00:04.350036')},\n {'Name': 'c', 'Time': Timedelta('0 days 00:00:05.876060')},\n {'Name': 'd', 'Time': Timedelta('0 days 00:00:06.291184')}]"
     },
     "metadata": {}
    },
    {
     "output_type": "stream",
     "name": "stdout",
     "text": "*********************************\n*** Core: 4 , Dimesions: 3500 ***\n*********************************\nTotal Time Taken for multiple thread: 0 days 00:00:17.966201 \n"
    },
    {
     "output_type": "display_data",
     "data": {
      "text/plain": "[{'Name': 'c', 'Time': Timedelta('0 days 00:00:17.579178')},\n {'Name': 'a', 'Time': Timedelta('0 days 00:00:17.600878')},\n {'Name': 'd', 'Time': Timedelta('0 days 00:00:17.758490')},\n {'Name': 'b', 'Time': Timedelta('0 days 00:00:17.783203')}]"
     },
     "metadata": {}
    },
    {
     "output_type": "stream",
     "name": "stdout",
     "text": "Total Time Taken for single thread: 0 days 00:00:20.342871 \n"
    },
    {
     "output_type": "display_data",
     "data": {
      "text/plain": "[{'Name': 'a', 'Time': Timedelta('0 days 00:00:04.066407')},\n {'Name': 'b', 'Time': Timedelta('0 days 00:00:05.580099')},\n {'Name': 'c', 'Time': Timedelta('0 days 00:00:06.339945')},\n {'Name': 'd', 'Time': Timedelta('0 days 00:00:04.329044')}]"
     },
     "metadata": {}
    }
   ],
   "source": [
    "compare(cores = 2 , dim = 3500)\n",
    "compare(cores = 3 , dim = 3500)\n",
    "compare(cores = 4 , dim = 3500)"
   ]
  },
  {
   "cell_type": "code",
   "execution_count": 20,
   "metadata": {},
   "outputs": [
    {
     "output_type": "stream",
     "name": "stdout",
     "text": "*********************************\n*** Core: 2 , Dimesions: 4000 ***\n*********************************\nTotal Time Taken for multiple thread: 0 days 00:00:25.065572 \n"
    },
    {
     "output_type": "display_data",
     "data": {
      "text/plain": "[{'Name': 'b', 'Time': Timedelta('0 days 00:00:13.582746')},\n {'Name': 'a', 'Time': Timedelta('0 days 00:00:13.679811')},\n {'Name': 'd', 'Time': Timedelta('0 days 00:00:11.069255')},\n {'Name': 'c', 'Time': Timedelta('0 days 00:00:11.215638')}]"
     },
     "metadata": {}
    },
    {
     "output_type": "stream",
     "name": "stdout",
     "text": "Total Time Taken for single thread: 0 days 00:00:24.351156 \n"
    },
    {
     "output_type": "display_data",
     "data": {
      "text/plain": "[{'Name': 'a', 'Time': Timedelta('0 days 00:00:05.646982')},\n {'Name': 'b', 'Time': Timedelta('0 days 00:00:05.993250')},\n {'Name': 'c', 'Time': Timedelta('0 days 00:00:06.000641')},\n {'Name': 'd', 'Time': Timedelta('0 days 00:00:06.674968')}]"
     },
     "metadata": {}
    },
    {
     "output_type": "stream",
     "name": "stdout",
     "text": "*********************************\n*** Core: 3 , Dimesions: 4000 ***\n*********************************\nTotal Time Taken for multiple thread: 0 days 00:00:32.282703 \n"
    },
    {
     "output_type": "display_data",
     "data": {
      "text/plain": "[{'Name': 'c', 'Time': Timedelta('0 days 00:00:24.817426')},\n {'Name': 'b', 'Time': Timedelta('0 days 00:00:24.923256')},\n {'Name': 'a', 'Time': Timedelta('0 days 00:00:25.146485')},\n {'Name': 'd', 'Time': Timedelta('0 days 00:00:07.175883')}]"
     },
     "metadata": {}
    },
    {
     "output_type": "stream",
     "name": "stdout",
     "text": "Total Time Taken for single thread: 0 days 00:00:24.990963 \n"
    },
    {
     "output_type": "display_data",
     "data": {
      "text/plain": "[{'Name': 'a', 'Time': Timedelta('0 days 00:00:06.483176')},\n {'Name': 'b', 'Time': Timedelta('0 days 00:00:05.862843')},\n {'Name': 'c', 'Time': Timedelta('0 days 00:00:06.607876')},\n {'Name': 'd', 'Time': Timedelta('0 days 00:00:06.000698')}]"
     },
     "metadata": {}
    },
    {
     "output_type": "stream",
     "name": "stdout",
     "text": "*********************************\n*** Core: 4 , Dimesions: 4000 ***\n*********************************\nTotal Time Taken for multiple thread: 0 days 00:00:30.954833 \n"
    },
    {
     "output_type": "display_data",
     "data": {
      "text/plain": "[{'Name': 'b', 'Time': Timedelta('0 days 00:00:30.400577')},\n {'Name': 'd', 'Time': Timedelta('0 days 00:00:30.423575')},\n {'Name': 'c', 'Time': Timedelta('0 days 00:00:30.668042')},\n {'Name': 'a', 'Time': Timedelta('0 days 00:00:30.725721')}]"
     },
     "metadata": {}
    },
    {
     "output_type": "stream",
     "name": "stdout",
     "text": "Total Time Taken for single thread: 0 days 00:00:24.932523 \n"
    },
    {
     "output_type": "display_data",
     "data": {
      "text/plain": "[{'Name': 'a', 'Time': Timedelta('0 days 00:00:07.227640')},\n {'Name': 'b', 'Time': Timedelta('0 days 00:00:07.122170')},\n {'Name': 'c', 'Time': Timedelta('0 days 00:00:05.293802')},\n {'Name': 'd', 'Time': Timedelta('0 days 00:00:05.252720')}]"
     },
     "metadata": {}
    }
   ],
   "source": [
    "compare(cores = 2 , dim = 4000)\n",
    "compare(cores = 3 , dim = 4000)\n",
    "compare(cores = 4 , dim = 4000)"
   ]
  }
 ],
 "metadata": {
  "language_info": {
   "codemirror_mode": {
    "name": "ipython",
    "version": 3
   },
   "file_extension": ".py",
   "mimetype": "text/x-python",
   "name": "python",
   "nbconvert_exporter": "python",
   "pygments_lexer": "ipython3",
   "version": "3.7.4-final"
  },
  "orig_nbformat": 2,
  "kernelspec": {
   "name": "plain",
   "display_name": "plain"
  }
 },
 "nbformat": 4,
 "nbformat_minor": 2
}