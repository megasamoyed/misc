{
 "cells": [
  {
   "cell_type": "markdown",
   "metadata": {},
   "source": [
    "# Example 1:\n",
    "Making a class list like"
   ]
  },
  {
   "cell_type": "code",
   "execution_count": 1,
   "metadata": {},
   "outputs": [
    {
     "output_type": "stream",
     "name": "stdout",
     "text": "B\n3\n"
    }
   ],
   "source": [
    "class Sample:\n",
    "    def __init__(self , container):\n",
    "        self.__count = len(container)\n",
    "        self.__container = container  \n",
    "\n",
    "    def get_self(self ,i):\n",
    "        return self[i]\n",
    "\n",
    "    def __getitem__(self, i):\n",
    "        return self.__container[i]\n",
    "\n",
    "    def __setitem__(self, i , container):\n",
    "        self.__container[i] = model\n",
    "\n",
    "    def __len__(self):\n",
    "        return self.__count\n",
    "        \n",
    "sample = Sample([\"A\",\"B\",\"C\"])\n",
    "print(sample.get_self(1))\n",
    "print(len(sample))"
   ]
  }
 ],
 "metadata": {
  "language_info": {
   "codemirror_mode": {
    "name": "ipython",
    "version": 3
   },
   "file_extension": ".py",
   "mimetype": "text/x-python",
   "name": "python",
   "nbconvert_exporter": "python",
   "pygments_lexer": "ipython3",
   "version": "3.7.4-final"
  },
  "orig_nbformat": 2,
  "kernelspec": {
   "name": "plain",
   "display_name": "plain"
  }
 },
 "nbformat": 4,
 "nbformat_minor": 2
}